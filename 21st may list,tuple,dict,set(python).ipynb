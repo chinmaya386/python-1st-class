{
 "cells": [
  {
   "cell_type": "code",
   "execution_count": 1,
   "id": "20d8d0b3",
   "metadata": {},
   "outputs": [],
   "source": [
    "l=['chinu',45,56.23,[45,56,6,'cv'],True]"
   ]
  },
  {
   "cell_type": "code",
   "execution_count": 3,
   "id": "8c9270d9",
   "metadata": {},
   "outputs": [
    {
     "name": "stdout",
     "output_type": "stream",
     "text": [
      "chinu\n",
      "45\n",
      "56.23\n",
      "[45, 56, 6, 'cv']\n",
      "True\n"
     ]
    }
   ],
   "source": [
    "for i in l:\n",
    "    print(i)"
   ]
  },
  {
   "cell_type": "code",
   "execution_count": 4,
   "id": "3e0f9881",
   "metadata": {},
   "outputs": [
    {
     "data": {
      "text/plain": [
       "True"
      ]
     },
     "execution_count": 4,
     "metadata": {},
     "output_type": "execute_result"
    }
   ],
   "source": [
    "True in l"
   ]
  },
  {
   "cell_type": "code",
   "execution_count": 5,
   "id": "e8dcd180",
   "metadata": {},
   "outputs": [
    {
     "data": {
      "text/plain": [
       "False"
      ]
     },
     "execution_count": 5,
     "metadata": {},
     "output_type": "execute_result"
    }
   ],
   "source": [
    "54 in l"
   ]
  },
  {
   "cell_type": "code",
   "execution_count": 6,
   "id": "f1f584d5",
   "metadata": {},
   "outputs": [
    {
     "data": {
      "text/plain": [
       "True"
      ]
     },
     "execution_count": 6,
     "metadata": {},
     "output_type": "execute_result"
    }
   ],
   "source": [
    "'chinu' in l"
   ]
  },
  {
   "cell_type": "code",
   "execution_count": 7,
   "id": "3a5315a6",
   "metadata": {},
   "outputs": [],
   "source": [
    "l=[1,2,3,4,6]"
   ]
  },
  {
   "cell_type": "code",
   "execution_count": 24,
   "id": "72564dda",
   "metadata": {},
   "outputs": [
    {
     "data": {
      "text/plain": [
       "6"
      ]
     },
     "execution_count": 24,
     "metadata": {},
     "output_type": "execute_result"
    }
   ],
   "source": [
    "len(l)"
   ]
  },
  {
   "cell_type": "code",
   "execution_count": 25,
   "id": "96e88fd8",
   "metadata": {},
   "outputs": [],
   "source": [
    "l1=[1,2,3,4,5,7,90]"
   ]
  },
  {
   "cell_type": "code",
   "execution_count": 26,
   "id": "fec02707",
   "metadata": {},
   "outputs": [
    {
     "data": {
      "text/plain": [
       "90"
      ]
     },
     "execution_count": 26,
     "metadata": {},
     "output_type": "execute_result"
    }
   ],
   "source": [
    "max(l1)"
   ]
  },
  {
   "cell_type": "code",
   "execution_count": 27,
   "id": "34642757",
   "metadata": {},
   "outputs": [
    {
     "data": {
      "text/plain": [
       "1"
      ]
     },
     "execution_count": 27,
     "metadata": {},
     "output_type": "execute_result"
    }
   ],
   "source": [
    "min(l1)"
   ]
  },
  {
   "cell_type": "code",
   "execution_count": 28,
   "id": "1159e1f6",
   "metadata": {},
   "outputs": [],
   "source": [
    "l2=['chinu','ineuron','shankar']"
   ]
  },
  {
   "cell_type": "code",
   "execution_count": 29,
   "id": "3e02bcbb",
   "metadata": {},
   "outputs": [
    {
     "data": {
      "text/plain": [
       "'shankar'"
      ]
     },
     "execution_count": 29,
     "metadata": {},
     "output_type": "execute_result"
    }
   ],
   "source": [
    "max(l2)"
   ]
  },
  {
   "cell_type": "code",
   "execution_count": 30,
   "id": "b89f4100",
   "metadata": {},
   "outputs": [
    {
     "data": {
      "text/plain": [
       "'chinu'"
      ]
     },
     "execution_count": 30,
     "metadata": {},
     "output_type": "execute_result"
    }
   ],
   "source": [
    "min(l2)"
   ]
  },
  {
   "cell_type": "code",
   "execution_count": 31,
   "id": "8dcdae21",
   "metadata": {},
   "outputs": [
    {
     "data": {
      "text/plain": [
       "[1, 2, 4, 6, 's', '1']"
      ]
     },
     "execution_count": 31,
     "metadata": {},
     "output_type": "execute_result"
    }
   ],
   "source": [
    "l"
   ]
  },
  {
   "cell_type": "code",
   "execution_count": 32,
   "id": "8ee6c5e5",
   "metadata": {},
   "outputs": [],
   "source": [
    "l.append('chinu')"
   ]
  },
  {
   "cell_type": "code",
   "execution_count": 33,
   "id": "745c96ab",
   "metadata": {},
   "outputs": [
    {
     "data": {
      "text/plain": [
       "[1, 2, 4, 6, 's', '1', 'chinu']"
      ]
     },
     "execution_count": 33,
     "metadata": {},
     "output_type": "execute_result"
    }
   ],
   "source": [
    "l"
   ]
  },
  {
   "cell_type": "code",
   "execution_count": 34,
   "id": "1c41e917",
   "metadata": {},
   "outputs": [
    {
     "data": {
      "text/plain": [
       "1"
      ]
     },
     "execution_count": 34,
     "metadata": {},
     "output_type": "execute_result"
    }
   ],
   "source": [
    "l.pop(0)"
   ]
  },
  {
   "cell_type": "code",
   "execution_count": 35,
   "id": "6e0e0da2",
   "metadata": {},
   "outputs": [
    {
     "data": {
      "text/plain": [
       "[2, 4, 6, 's', '1', 'chinu']"
      ]
     },
     "execution_count": 35,
     "metadata": {},
     "output_type": "execute_result"
    }
   ],
   "source": [
    "l"
   ]
  },
  {
   "cell_type": "code",
   "execution_count": 36,
   "id": "f4176de0",
   "metadata": {},
   "outputs": [
    {
     "data": {
      "text/plain": [
       "'chinu'"
      ]
     },
     "execution_count": 36,
     "metadata": {},
     "output_type": "execute_result"
    }
   ],
   "source": [
    "l.pop()"
   ]
  },
  {
   "cell_type": "code",
   "execution_count": 37,
   "id": "053d9954",
   "metadata": {},
   "outputs": [
    {
     "data": {
      "text/plain": [
       "[2, 4, 6, 's', '1']"
      ]
     },
     "execution_count": 37,
     "metadata": {},
     "output_type": "execute_result"
    }
   ],
   "source": [
    "l"
   ]
  },
  {
   "cell_type": "code",
   "execution_count": 39,
   "id": "fed99b42",
   "metadata": {},
   "outputs": [],
   "source": [
    "l.reverse()"
   ]
  },
  {
   "cell_type": "code",
   "execution_count": 40,
   "id": "a109a1bf",
   "metadata": {},
   "outputs": [
    {
     "data": {
      "text/plain": [
       "['1', 's', 6, 4, 2]"
      ]
     },
     "execution_count": 40,
     "metadata": {},
     "output_type": "execute_result"
    }
   ],
   "source": [
    "l"
   ]
  },
  {
   "cell_type": "code",
   "execution_count": 41,
   "id": "f3437e25",
   "metadata": {},
   "outputs": [],
   "source": [
    "l.reverse()"
   ]
  },
  {
   "cell_type": "code",
   "execution_count": 42,
   "id": "b5004882",
   "metadata": {},
   "outputs": [
    {
     "data": {
      "text/plain": [
       "[2, 4, 6, 's', '1']"
      ]
     },
     "execution_count": 42,
     "metadata": {},
     "output_type": "execute_result"
    }
   ],
   "source": [
    "l"
   ]
  },
  {
   "cell_type": "code",
   "execution_count": 43,
   "id": "8f8fa86c",
   "metadata": {},
   "outputs": [],
   "source": [
    "l.append([1,2,4,56])"
   ]
  },
  {
   "cell_type": "code",
   "execution_count": 44,
   "id": "db43048c",
   "metadata": {},
   "outputs": [
    {
     "data": {
      "text/plain": [
       "[2, 4, 6, 's', '1', [1, 2, 4, 56]]"
      ]
     },
     "execution_count": 44,
     "metadata": {},
     "output_type": "execute_result"
    }
   ],
   "source": [
    "l"
   ]
  },
  {
   "cell_type": "code",
   "execution_count": 45,
   "id": "1abe9d25",
   "metadata": {},
   "outputs": [],
   "source": [
    "l3=[3,56,76,84,98]"
   ]
  },
  {
   "cell_type": "code",
   "execution_count": 46,
   "id": "27bd9b0c",
   "metadata": {},
   "outputs": [],
   "source": [
    "l3.sort(reverse=True)"
   ]
  },
  {
   "cell_type": "code",
   "execution_count": 47,
   "id": "6fe29599",
   "metadata": {},
   "outputs": [
    {
     "data": {
      "text/plain": [
       "[98, 84, 76, 56, 3]"
      ]
     },
     "execution_count": 47,
     "metadata": {},
     "output_type": "execute_result"
    }
   ],
   "source": [
    "l3"
   ]
  },
  {
   "cell_type": "code",
   "execution_count": 48,
   "id": "6267dc06",
   "metadata": {},
   "outputs": [],
   "source": [
    "l3.sort()"
   ]
  },
  {
   "cell_type": "code",
   "execution_count": 49,
   "id": "25f75cb9",
   "metadata": {},
   "outputs": [
    {
     "data": {
      "text/plain": [
       "[3, 56, 76, 84, 98]"
      ]
     },
     "execution_count": 49,
     "metadata": {},
     "output_type": "execute_result"
    }
   ],
   "source": [
    "l3"
   ]
  },
  {
   "cell_type": "code",
   "execution_count": 50,
   "id": "7c41967a",
   "metadata": {},
   "outputs": [],
   "source": [
    "l1=[2,3,4]\n",
    "l2=[4,5,6]\n",
    "l3=[7,5,9]"
   ]
  },
  {
   "cell_type": "code",
   "execution_count": 53,
   "id": "72e06b59",
   "metadata": {},
   "outputs": [],
   "source": [
    "l4=[l1,l2,l3]"
   ]
  },
  {
   "cell_type": "code",
   "execution_count": 54,
   "id": "8b14cf29",
   "metadata": {},
   "outputs": [
    {
     "data": {
      "text/plain": [
       "[[2, 3, 4], [4, 5, 6], [7, 5, 9]]"
      ]
     },
     "execution_count": 54,
     "metadata": {},
     "output_type": "execute_result"
    }
   ],
   "source": [
    "l4"
   ]
  },
  {
   "cell_type": "code",
   "execution_count": 56,
   "id": "109390a5",
   "metadata": {},
   "outputs": [
    {
     "data": {
      "text/plain": [
       "9"
      ]
     },
     "execution_count": 56,
     "metadata": {},
     "output_type": "execute_result"
    }
   ],
   "source": [
    "l4[2][2]"
   ]
  },
  {
   "cell_type": "code",
   "execution_count": 58,
   "id": "d62d4661",
   "metadata": {},
   "outputs": [
    {
     "data": {
      "text/plain": [
       "1"
      ]
     },
     "execution_count": 58,
     "metadata": {},
     "output_type": "execute_result"
    }
   ],
   "source": [
    "l4.count([2,3,4])"
   ]
  },
  {
   "cell_type": "code",
   "execution_count": 61,
   "id": "ef41c069",
   "metadata": {},
   "outputs": [],
   "source": [
    "l5=[2,4,7,7,77,4,4,88,9]"
   ]
  },
  {
   "cell_type": "code",
   "execution_count": 62,
   "id": "4fc78bfd",
   "metadata": {},
   "outputs": [
    {
     "data": {
      "text/plain": [
       "2"
      ]
     },
     "execution_count": 62,
     "metadata": {},
     "output_type": "execute_result"
    }
   ],
   "source": [
    "l5.count(7)"
   ]
  },
  {
   "cell_type": "code",
   "execution_count": 63,
   "id": "d07e046c",
   "metadata": {},
   "outputs": [
    {
     "data": {
      "text/plain": [
       "[2, 4, 6, 's', '1', [1, 2, 4, 56]]"
      ]
     },
     "execution_count": 63,
     "metadata": {},
     "output_type": "execute_result"
    }
   ],
   "source": [
    "l"
   ]
  },
  {
   "cell_type": "code",
   "execution_count": 64,
   "id": "0deb2fef",
   "metadata": {},
   "outputs": [],
   "source": [
    "l.append('shankar')"
   ]
  },
  {
   "cell_type": "code",
   "execution_count": 65,
   "id": "7b3ea0b2",
   "metadata": {},
   "outputs": [
    {
     "data": {
      "text/plain": [
       "[2, 4, 6, 's', '1', [1, 2, 4, 56], 'shankar']"
      ]
     },
     "execution_count": 65,
     "metadata": {},
     "output_type": "execute_result"
    }
   ],
   "source": [
    "l"
   ]
  },
  {
   "cell_type": "code",
   "execution_count": 66,
   "id": "9cd7ad2c",
   "metadata": {},
   "outputs": [],
   "source": [
    "l.append([2,45,678,])"
   ]
  },
  {
   "cell_type": "code",
   "execution_count": 67,
   "id": "60216bff",
   "metadata": {},
   "outputs": [
    {
     "data": {
      "text/plain": [
       "[2, 4, 6, 's', '1', [1, 2, 4, 56], 'shankar', [2, 45, 678]]"
      ]
     },
     "execution_count": 67,
     "metadata": {},
     "output_type": "execute_result"
    }
   ],
   "source": [
    "l"
   ]
  },
  {
   "cell_type": "code",
   "execution_count": 68,
   "id": "721ce10a",
   "metadata": {},
   "outputs": [],
   "source": [
    "l.extend([4,5,66])"
   ]
  },
  {
   "cell_type": "code",
   "execution_count": 69,
   "id": "51b8d4dc",
   "metadata": {},
   "outputs": [
    {
     "data": {
      "text/plain": [
       "[2, 4, 6, 's', '1', [1, 2, 4, 56], 'shankar', [2, 45, 678], 4, 5, 66]"
      ]
     },
     "execution_count": 69,
     "metadata": {},
     "output_type": "execute_result"
    }
   ],
   "source": [
    "l"
   ]
  },
  {
   "cell_type": "code",
   "execution_count": 70,
   "id": "d848861e",
   "metadata": {},
   "outputs": [],
   "source": [
    "l.extend('chinmaya')"
   ]
  },
  {
   "cell_type": "code",
   "execution_count": 71,
   "id": "62f3ec91",
   "metadata": {},
   "outputs": [
    {
     "data": {
      "text/plain": [
       "[2,\n",
       " 4,\n",
       " 6,\n",
       " 's',\n",
       " '1',\n",
       " [1, 2, 4, 56],\n",
       " 'shankar',\n",
       " [2, 45, 678],\n",
       " 4,\n",
       " 5,\n",
       " 66,\n",
       " 'c',\n",
       " 'h',\n",
       " 'i',\n",
       " 'n',\n",
       " 'm',\n",
       " 'a',\n",
       " 'y',\n",
       " 'a']"
      ]
     },
     "execution_count": 71,
     "metadata": {},
     "output_type": "execute_result"
    }
   ],
   "source": [
    "l"
   ]
  },
  {
   "cell_type": "code",
   "execution_count": 72,
   "id": "4bfd7a38",
   "metadata": {},
   "outputs": [
    {
     "data": {
      "text/plain": [
       "2"
      ]
     },
     "execution_count": 72,
     "metadata": {},
     "output_type": "execute_result"
    }
   ],
   "source": [
    "l.index(6)"
   ]
  },
  {
   "cell_type": "code",
   "execution_count": 73,
   "id": "2563d944",
   "metadata": {},
   "outputs": [],
   "source": [
    "l=[1,2,3,4,5]"
   ]
  },
  {
   "cell_type": "code",
   "execution_count": 76,
   "id": "46dc9683",
   "metadata": {},
   "outputs": [],
   "source": [
    "l.insert(2,'78')"
   ]
  },
  {
   "cell_type": "code",
   "execution_count": 77,
   "id": "d867a657",
   "metadata": {},
   "outputs": [],
   "source": [
    "l.insert(5,'chinmaya')"
   ]
  },
  {
   "cell_type": "code",
   "execution_count": 78,
   "id": "4fa722ef",
   "metadata": {},
   "outputs": [
    {
     "data": {
      "text/plain": [
       "[1, 2, '78', 3, 4, 'chinmaya', 5]"
      ]
     },
     "execution_count": 78,
     "metadata": {},
     "output_type": "execute_result"
    }
   ],
   "source": [
    "l"
   ]
  },
  {
   "cell_type": "code",
   "execution_count": 80,
   "id": "708784dd",
   "metadata": {},
   "outputs": [
    {
     "data": {
      "text/plain": [
       "6"
      ]
     },
     "execution_count": 80,
     "metadata": {},
     "output_type": "execute_result"
    }
   ],
   "source": [
    "l.index(5)"
   ]
  },
  {
   "cell_type": "code",
   "execution_count": 82,
   "id": "2accc543",
   "metadata": {},
   "outputs": [],
   "source": [
    "l.remove('78')"
   ]
  },
  {
   "cell_type": "code",
   "execution_count": 83,
   "id": "e8497ea7",
   "metadata": {},
   "outputs": [
    {
     "data": {
      "text/plain": [
       "[1, 2, 3, 4, 'chinmaya', 5]"
      ]
     },
     "execution_count": 83,
     "metadata": {},
     "output_type": "execute_result"
    }
   ],
   "source": [
    "l"
   ]
  },
  {
   "cell_type": "code",
   "execution_count": 85,
   "id": "c26a8679",
   "metadata": {},
   "outputs": [],
   "source": [
    "l[3]='vu'"
   ]
  },
  {
   "cell_type": "code",
   "execution_count": 86,
   "id": "3058bc56",
   "metadata": {},
   "outputs": [
    {
     "data": {
      "text/plain": [
       "[1, 2, 3, 'vu', 'chinmaya', 5]"
      ]
     },
     "execution_count": 86,
     "metadata": {},
     "output_type": "execute_result"
    }
   ],
   "source": [
    "l"
   ]
  },
  {
   "cell_type": "code",
   "execution_count": 87,
   "id": "3c5aa5a0",
   "metadata": {},
   "outputs": [],
   "source": [
    "t=(1,3,5,'shan',56.23,True)"
   ]
  },
  {
   "cell_type": "code",
   "execution_count": 88,
   "id": "bbdbb53f",
   "metadata": {},
   "outputs": [
    {
     "data": {
      "text/plain": [
       "tuple"
      ]
     },
     "execution_count": 88,
     "metadata": {},
     "output_type": "execute_result"
    }
   ],
   "source": [
    "type(t)"
   ]
  },
  {
   "cell_type": "code",
   "execution_count": 89,
   "id": "22cf93df",
   "metadata": {},
   "outputs": [
    {
     "data": {
      "text/plain": [
       "1"
      ]
     },
     "execution_count": 89,
     "metadata": {},
     "output_type": "execute_result"
    }
   ],
   "source": [
    "t[0]"
   ]
  },
  {
   "cell_type": "code",
   "execution_count": 90,
   "id": "d738415c",
   "metadata": {},
   "outputs": [
    {
     "data": {
      "text/plain": [
       "(1, 3, 5, 'shan', 56.23)"
      ]
     },
     "execution_count": 90,
     "metadata": {},
     "output_type": "execute_result"
    }
   ],
   "source": [
    "t[0:5]"
   ]
  },
  {
   "cell_type": "code",
   "execution_count": 91,
   "id": "db09077b",
   "metadata": {},
   "outputs": [
    {
     "data": {
      "text/plain": [
       "56.23"
      ]
     },
     "execution_count": 91,
     "metadata": {},
     "output_type": "execute_result"
    }
   ],
   "source": [
    "t[-2]"
   ]
  },
  {
   "cell_type": "code",
   "execution_count": 92,
   "id": "2f9162b5",
   "metadata": {},
   "outputs": [
    {
     "data": {
      "text/plain": [
       "()"
      ]
     },
     "execution_count": 92,
     "metadata": {},
     "output_type": "execute_result"
    }
   ],
   "source": [
    "t[0:5:-1]"
   ]
  },
  {
   "cell_type": "code",
   "execution_count": 93,
   "id": "56ce7039",
   "metadata": {},
   "outputs": [
    {
     "data": {
      "text/plain": [
       "(1, 5, 56.23)"
      ]
     },
     "execution_count": 93,
     "metadata": {},
     "output_type": "execute_result"
    }
   ],
   "source": [
    "t[0:5:2]"
   ]
  },
  {
   "cell_type": "code",
   "execution_count": 94,
   "id": "d6b4ec42",
   "metadata": {},
   "outputs": [],
   "source": [
    "s=('shankar')"
   ]
  },
  {
   "cell_type": "code",
   "execution_count": 95,
   "id": "67b5ce24",
   "metadata": {},
   "outputs": [],
   "source": [
    "s1=\"chinmaya\""
   ]
  },
  {
   "cell_type": "code",
   "execution_count": 96,
   "id": "854bdea8",
   "metadata": {},
   "outputs": [
    {
     "data": {
      "text/plain": [
       "'chinmayashankar'"
      ]
     },
     "execution_count": 96,
     "metadata": {},
     "output_type": "execute_result"
    }
   ],
   "source": [
    "s1+s"
   ]
  },
  {
   "cell_type": "code",
   "execution_count": 97,
   "id": "cca13614",
   "metadata": {},
   "outputs": [
    {
     "data": {
      "text/plain": [
       "str"
      ]
     },
     "execution_count": 97,
     "metadata": {},
     "output_type": "execute_result"
    }
   ],
   "source": [
    "type(s)"
   ]
  },
  {
   "cell_type": "code",
   "execution_count": 111,
   "id": "aee2d704",
   "metadata": {},
   "outputs": [],
   "source": [
    "t=(1,2,3,56,34.56,'shankar',True)"
   ]
  },
  {
   "cell_type": "code",
   "execution_count": 112,
   "id": "49c65647",
   "metadata": {},
   "outputs": [],
   "source": [
    "t1=(34.56,78,32,67,80,False)"
   ]
  },
  {
   "cell_type": "code",
   "execution_count": 116,
   "id": "4fdcb697",
   "metadata": {},
   "outputs": [
    {
     "data": {
      "text/plain": [
       "(1, 2, 3, 56, 34.56, 'shankar', True, 34.56, 78, 32, 67, 80, False)"
      ]
     },
     "execution_count": 116,
     "metadata": {},
     "output_type": "execute_result"
    }
   ],
   "source": [
    "t+t1"
   ]
  },
  {
   "cell_type": "code",
   "execution_count": 117,
   "id": "03d6745c",
   "metadata": {},
   "outputs": [
    {
     "data": {
      "text/plain": [
       "tuple"
      ]
     },
     "execution_count": 117,
     "metadata": {},
     "output_type": "execute_result"
    }
   ],
   "source": [
    "type(t1)"
   ]
  },
  {
   "cell_type": "code",
   "execution_count": 118,
   "id": "d46653c6",
   "metadata": {},
   "outputs": [
    {
     "ename": "TypeError",
     "evalue": "'tuple' object does not support item assignment",
     "output_type": "error",
     "traceback": [
      "\u001b[1;31m---------------------------------------------------------------------------\u001b[0m",
      "\u001b[1;31mTypeError\u001b[0m                                 Traceback (most recent call last)",
      "Input \u001b[1;32mIn [118]\u001b[0m, in \u001b[0;36m<cell line: 1>\u001b[1;34m()\u001b[0m\n\u001b[1;32m----> 1\u001b[0m t[\u001b[38;5;241m2\u001b[39m]\u001b[38;5;241m=\u001b[39m\u001b[38;5;124m'\u001b[39m\u001b[38;5;124mkara\u001b[39m\u001b[38;5;124m'\u001b[39m\n",
      "\u001b[1;31mTypeError\u001b[0m: 'tuple' object does not support item assignment"
     ]
    }
   ],
   "source": [
    "t[2]='kara'"
   ]
  },
  {
   "cell_type": "code",
   "execution_count": 119,
   "id": "1786cceb",
   "metadata": {},
   "outputs": [
    {
     "data": {
      "text/plain": [
       "(1, 2, 3, 56, 34.56, 'shankar', True)"
      ]
     },
     "execution_count": 119,
     "metadata": {},
     "output_type": "execute_result"
    }
   ],
   "source": [
    "t"
   ]
  },
  {
   "cell_type": "code",
   "execution_count": 120,
   "id": "c1c80900",
   "metadata": {},
   "outputs": [
    {
     "data": {
      "text/plain": [
       "1"
      ]
     },
     "execution_count": 120,
     "metadata": {},
     "output_type": "execute_result"
    }
   ],
   "source": [
    "t.count(2)"
   ]
  },
  {
   "cell_type": "code",
   "execution_count": 122,
   "id": "5e7f8a51",
   "metadata": {},
   "outputs": [
    {
     "data": {
      "text/plain": [
       "2"
      ]
     },
     "execution_count": 122,
     "metadata": {},
     "output_type": "execute_result"
    }
   ],
   "source": [
    "t.index(3)"
   ]
  },
  {
   "cell_type": "code",
   "execution_count": 123,
   "id": "11632f3f",
   "metadata": {},
   "outputs": [],
   "source": [
    "t=(34,56,87,43,True,'kar')"
   ]
  },
  {
   "cell_type": "code",
   "execution_count": 127,
   "id": "797e94e0",
   "metadata": {},
   "outputs": [
    {
     "data": {
      "text/plain": [
       "tuple"
      ]
     },
     "execution_count": 127,
     "metadata": {},
     "output_type": "execute_result"
    }
   ],
   "source": [
    "type(t)"
   ]
  },
  {
   "cell_type": "code",
   "execution_count": 128,
   "id": "b4ffb16c",
   "metadata": {},
   "outputs": [],
   "source": [
    "d={}"
   ]
  },
  {
   "cell_type": "code",
   "execution_count": 129,
   "id": "8cd75bec",
   "metadata": {},
   "outputs": [
    {
     "data": {
      "text/plain": [
       "dict"
      ]
     },
     "execution_count": 129,
     "metadata": {},
     "output_type": "execute_result"
    }
   ],
   "source": [
    "type(d)"
   ]
  },
  {
   "cell_type": "code",
   "execution_count": 131,
   "id": "8873141e",
   "metadata": {},
   "outputs": [],
   "source": [
    "d={46}"
   ]
  },
  {
   "cell_type": "code",
   "execution_count": 132,
   "id": "ba10603f",
   "metadata": {},
   "outputs": [
    {
     "data": {
      "text/plain": [
       "set"
      ]
     },
     "execution_count": 132,
     "metadata": {},
     "output_type": "execute_result"
    }
   ],
   "source": [
    "type(d)"
   ]
  },
  {
   "cell_type": "code",
   "execution_count": 133,
   "id": "da90d7aa",
   "metadata": {},
   "outputs": [],
   "source": [
    "d={'key':\"val\",234:'fd','name':'chinu'}"
   ]
  },
  {
   "cell_type": "code",
   "execution_count": 134,
   "id": "4b11bbc6",
   "metadata": {},
   "outputs": [
    {
     "data": {
      "text/plain": [
       "dict"
      ]
     },
     "execution_count": 134,
     "metadata": {},
     "output_type": "execute_result"
    }
   ],
   "source": [
    "type(d)"
   ]
  },
  {
   "cell_type": "code",
   "execution_count": 135,
   "id": "eb2e7b1a",
   "metadata": {},
   "outputs": [
    {
     "data": {
      "text/plain": [
       "'chinu'"
      ]
     },
     "execution_count": 135,
     "metadata": {},
     "output_type": "execute_result"
    }
   ],
   "source": [
    "d['name']"
   ]
  },
  {
   "cell_type": "code",
   "execution_count": 136,
   "id": "ecead2c9",
   "metadata": {},
   "outputs": [
    {
     "data": {
      "text/plain": [
       "'val'"
      ]
     },
     "execution_count": 136,
     "metadata": {},
     "output_type": "execute_result"
    }
   ],
   "source": [
    "d['key']"
   ]
  },
  {
   "cell_type": "code",
   "execution_count": 137,
   "id": "a8abd7e3",
   "metadata": {},
   "outputs": [
    {
     "data": {
      "text/plain": [
       "'fd'"
      ]
     },
     "execution_count": 137,
     "metadata": {},
     "output_type": "execute_result"
    }
   ],
   "source": [
    "d[234]"
   ]
  },
  {
   "cell_type": "code",
   "execution_count": 138,
   "id": "e68cd660",
   "metadata": {},
   "outputs": [],
   "source": [
    "d1={'name':'chinmaya',\"tech\":['python','ml','nlp','dl','cnn']}"
   ]
  },
  {
   "cell_type": "code",
   "execution_count": 139,
   "id": "74bb823f",
   "metadata": {},
   "outputs": [
    {
     "data": {
      "text/plain": [
       "{'name': 'chinmaya', 'tech': ['python', 'ml', 'nlp', 'dl', 'cnn']}"
      ]
     },
     "execution_count": 139,
     "metadata": {},
     "output_type": "execute_result"
    }
   ],
   "source": [
    "d1"
   ]
  },
  {
   "cell_type": "code",
   "execution_count": 141,
   "id": "94addca7",
   "metadata": {},
   "outputs": [
    {
     "data": {
      "text/plain": [
       "True"
      ]
     },
     "execution_count": 141,
     "metadata": {},
     "output_type": "execute_result"
    }
   ],
   "source": [
    "'python' in d1['tech']"
   ]
  },
  {
   "cell_type": "code",
   "execution_count": 142,
   "id": "fd87f428",
   "metadata": {},
   "outputs": [
    {
     "data": {
      "text/plain": [
       "dict_keys(['name', 'tech'])"
      ]
     },
     "execution_count": 142,
     "metadata": {},
     "output_type": "execute_result"
    }
   ],
   "source": [
    "d1.keys()"
   ]
  },
  {
   "cell_type": "code",
   "execution_count": 144,
   "id": "65ec92c9",
   "metadata": {},
   "outputs": [
    {
     "data": {
      "text/plain": [
       "dict_values(['chinmaya', ['python', 'ml', 'nlp', 'dl', 'cnn']])"
      ]
     },
     "execution_count": 144,
     "metadata": {},
     "output_type": "execute_result"
    }
   ],
   "source": [
    "d1.values()"
   ]
  },
  {
   "cell_type": "code",
   "execution_count": 145,
   "id": "049b8047",
   "metadata": {},
   "outputs": [
    {
     "data": {
      "text/plain": [
       "dict_items([('name', 'chinmaya'), ('tech', ['python', 'ml', 'nlp', 'dl', 'cnn'])])"
      ]
     },
     "execution_count": 145,
     "metadata": {},
     "output_type": "execute_result"
    }
   ],
   "source": [
    "d1.items()"
   ]
  },
  {
   "cell_type": "code",
   "execution_count": 146,
   "id": "13410e88",
   "metadata": {},
   "outputs": [],
   "source": [
    "s={2,34,56,65,87.23}"
   ]
  },
  {
   "cell_type": "code",
   "execution_count": 148,
   "id": "c52ed686",
   "metadata": {},
   "outputs": [
    {
     "data": {
      "text/plain": [
       "set"
      ]
     },
     "execution_count": 148,
     "metadata": {},
     "output_type": "execute_result"
    }
   ],
   "source": [
    "type(s)"
   ]
  },
  {
   "cell_type": "code",
   "execution_count": 149,
   "id": "8446acf2",
   "metadata": {},
   "outputs": [],
   "source": [
    "s1={2,2,2,2,4,4,4,4,66,66,77,7,7,7,88,8,8,9,9,9}"
   ]
  },
  {
   "cell_type": "code",
   "execution_count": 150,
   "id": "6166e845",
   "metadata": {},
   "outputs": [
    {
     "data": {
      "text/plain": [
       "{2, 4, 7, 8, 9, 66, 77, 88}"
      ]
     },
     "execution_count": 150,
     "metadata": {},
     "output_type": "execute_result"
    }
   ],
   "source": [
    "s1"
   ]
  },
  {
   "cell_type": "code",
   "execution_count": 151,
   "id": "f68b25a3",
   "metadata": {},
   "outputs": [],
   "source": [
    "s2={5674,789,342,4562,1,34,238,9872}"
   ]
  },
  {
   "cell_type": "code",
   "execution_count": 152,
   "id": "7bd92e2c",
   "metadata": {},
   "outputs": [
    {
     "data": {
      "text/plain": [
       "{1, 34, 238, 342, 789, 4562, 5674, 9872}"
      ]
     },
     "execution_count": 152,
     "metadata": {},
     "output_type": "execute_result"
    }
   ],
   "source": [
    "s2"
   ]
  },
  {
   "cell_type": "code",
   "execution_count": 153,
   "id": "d21fa9fd",
   "metadata": {},
   "outputs": [],
   "source": [
    "l=[2,2,2,2,34,3,4,3,4,34,56,78]"
   ]
  },
  {
   "cell_type": "code",
   "execution_count": 155,
   "id": "b89b7cf3",
   "metadata": {},
   "outputs": [
    {
     "data": {
      "text/plain": [
       "[2, 3, 34, 4, 78, 56]"
      ]
     },
     "execution_count": 155,
     "metadata": {},
     "output_type": "execute_result"
    }
   ],
   "source": [
    "list(set(l))"
   ]
  },
  {
   "cell_type": "code",
   "execution_count": 156,
   "id": "b86d7a8a",
   "metadata": {},
   "outputs": [],
   "source": [
    "s2.add(25555)"
   ]
  },
  {
   "cell_type": "code",
   "execution_count": 157,
   "id": "76ace75e",
   "metadata": {},
   "outputs": [
    {
     "data": {
      "text/plain": [
       "{1, 34, 238, 342, 789, 4562, 5674, 9872, 25555}"
      ]
     },
     "execution_count": 157,
     "metadata": {},
     "output_type": "execute_result"
    }
   ],
   "source": [
    "s2"
   ]
  },
  {
   "cell_type": "code",
   "execution_count": 165,
   "id": "39936e22",
   "metadata": {},
   "outputs": [],
   "source": [
    "s2.remove(1)"
   ]
  },
  {
   "cell_type": "code",
   "execution_count": 159,
   "id": "7ac95215",
   "metadata": {},
   "outputs": [
    {
     "data": {
      "text/plain": [
       "{1, 238, 342, 789, 4562, 5674, 9872, 25555}"
      ]
     },
     "execution_count": 159,
     "metadata": {},
     "output_type": "execute_result"
    }
   ],
   "source": [
    "s2"
   ]
  },
  {
   "cell_type": "code",
   "execution_count": 160,
   "id": "1fb81cc7",
   "metadata": {},
   "outputs": [],
   "source": [
    "s2.discard(345535)"
   ]
  },
  {
   "cell_type": "code",
   "execution_count": 161,
   "id": "0ec94627",
   "metadata": {},
   "outputs": [
    {
     "data": {
      "text/plain": [
       "{1, 238, 342, 789, 4562, 5674, 9872, 25555}"
      ]
     },
     "execution_count": 161,
     "metadata": {},
     "output_type": "execute_result"
    }
   ],
   "source": [
    "s2"
   ]
  },
  {
   "cell_type": "code",
   "execution_count": 166,
   "id": "c46a0166",
   "metadata": {},
   "outputs": [],
   "source": [
    "l=[3,4,5,6,7,[23,456,67,8,78],(234,6),{'key':'chinmaya',234:[23,45,656]}]"
   ]
  },
  {
   "cell_type": "code",
   "execution_count": 167,
   "id": "1d6ae1c7",
   "metadata": {},
   "outputs": [],
   "source": [
    "l.reverse()"
   ]
  },
  {
   "cell_type": "code",
   "execution_count": 168,
   "id": "e2b1b8ab",
   "metadata": {},
   "outputs": [
    {
     "data": {
      "text/plain": [
       "[{'key': 'chinmaya', 234: [23, 45, 656]},\n",
       " (234, 6),\n",
       " [23, 456, 67, 8, 78],\n",
       " 7,\n",
       " 6,\n",
       " 5,\n",
       " 4,\n",
       " 3]"
      ]
     },
     "execution_count": 168,
     "metadata": {},
     "output_type": "execute_result"
    }
   ],
   "source": [
    "l"
   ]
  },
  {
   "cell_type": "code",
   "execution_count": 169,
   "id": "0ea129cc",
   "metadata": {},
   "outputs": [],
   "source": [
    "l.reverse()"
   ]
  },
  {
   "cell_type": "code",
   "execution_count": 170,
   "id": "91659f01",
   "metadata": {},
   "outputs": [
    {
     "data": {
      "text/plain": [
       "[3,\n",
       " 4,\n",
       " 5,\n",
       " 6,\n",
       " 7,\n",
       " [23, 456, 67, 8, 78],\n",
       " (234, 6),\n",
       " {'key': 'chinmaya', 234: [23, 45, 656]}]"
      ]
     },
     "execution_count": 170,
     "metadata": {},
     "output_type": "execute_result"
    }
   ],
   "source": [
    "l"
   ]
  },
  {
   "cell_type": "code",
   "execution_count": 173,
   "id": "91ba1f53",
   "metadata": {},
   "outputs": [
    {
     "data": {
      "text/plain": [
       "234"
      ]
     },
     "execution_count": 173,
     "metadata": {},
     "output_type": "execute_result"
    }
   ],
   "source": [
    "l[6][0]"
   ]
  },
  {
   "cell_type": "code",
   "execution_count": 175,
   "id": "4d420f69",
   "metadata": {},
   "outputs": [
    {
     "data": {
      "text/plain": [
       "456"
      ]
     },
     "execution_count": 175,
     "metadata": {},
     "output_type": "execute_result"
    }
   ],
   "source": [
    "l[5][1]"
   ]
  },
  {
   "cell_type": "code",
   "execution_count": 176,
   "id": "7163f79f",
   "metadata": {},
   "outputs": [
    {
     "data": {
      "text/plain": [
       "[23, 456, 67, 8, 78]"
      ]
     },
     "execution_count": 176,
     "metadata": {},
     "output_type": "execute_result"
    }
   ],
   "source": [
    "l[5]"
   ]
  },
  {
   "cell_type": "code",
   "execution_count": 178,
   "id": "21fb592a",
   "metadata": {},
   "outputs": [
    {
     "data": {
      "text/plain": [
       "'chinmaya'"
      ]
     },
     "execution_count": 178,
     "metadata": {},
     "output_type": "execute_result"
    }
   ],
   "source": [
    "l[7]['key']"
   ]
  },
  {
   "cell_type": "code",
   "execution_count": 181,
   "id": "88827ba0",
   "metadata": {},
   "outputs": [
    {
     "data": {
      "text/plain": [
       "list[{'key': 'chinmaya', 234: [23, 45, 656]}]"
      ]
     },
     "execution_count": 181,
     "metadata": {},
     "output_type": "execute_result"
    }
   ],
   "source": [
    "list[l[7]]"
   ]
  },
  {
   "cell_type": "code",
   "execution_count": 184,
   "id": "703e1286",
   "metadata": {},
   "outputs": [
    {
     "data": {
      "text/plain": [
       "[23, 45, 656]"
      ]
     },
     "execution_count": 184,
     "metadata": {},
     "output_type": "execute_result"
    }
   ],
   "source": [
    "l[7][234]"
   ]
  },
  {
   "cell_type": "code",
   "execution_count": null,
   "id": "fb7d6503",
   "metadata": {},
   "outputs": [],
   "source": []
  }
 ],
 "metadata": {
  "kernelspec": {
   "display_name": "Python 3 (ipykernel)",
   "language": "python",
   "name": "python3"
  },
  "language_info": {
   "codemirror_mode": {
    "name": "ipython",
    "version": 3
   },
   "file_extension": ".py",
   "mimetype": "text/x-python",
   "name": "python",
   "nbconvert_exporter": "python",
   "pygments_lexer": "ipython3",
   "version": "3.9.12"
  }
 },
 "nbformat": 4,
 "nbformat_minor": 5
}
