{
 "cells": [
  {
   "cell_type": "code",
   "execution_count": 1,
   "id": "1909cc96",
   "metadata": {},
   "outputs": [
    {
     "name": "stdout",
     "output_type": "stream",
     "text": [
      "this is my first condition\n"
     ]
    }
   ],
   "source": [
    "a=10\n",
    "if a==10:\n",
    "    print('this is my first condition')\n"
   ]
  },
  {
   "cell_type": "code",
   "execution_count": 2,
   "id": "194506b5",
   "metadata": {},
   "outputs": [],
   "source": [
    "a=20\n",
    "if a>8:\n",
    "    pass"
   ]
  },
  {
   "cell_type": "code",
   "execution_count": 4,
   "id": "d1e1c3b9",
   "metadata": {},
   "outputs": [],
   "source": [
    "a=10\n",
    "if a<8:\n",
    "    print('this is true')"
   ]
  },
  {
   "cell_type": "code",
   "execution_count": 8,
   "id": "1b9e462e",
   "metadata": {},
   "outputs": [
    {
     "name": "stdout",
     "output_type": "stream",
     "text": [
      "we are trying to compare 10 with 10\n"
     ]
    }
   ],
   "source": [
    "a=10\n",
    "if a==12:\n",
    "    print('here we are tryiny to compare 10 with 12')\n",
    "elif a==10:\n",
    "    print('we are trying to compare 10 with 10')\n",
    "else:\n",
    "    print('if all fails then do this')"
   ]
  },
  {
   "cell_type": "code",
   "execution_count": 13,
   "id": "30818204",
   "metadata": {},
   "outputs": [
    {
     "name": "stdout",
     "output_type": "stream",
     "text": [
      "for sure i will buy it\n"
     ]
    }
   ],
   "source": [
    "price = 500\n",
    "if price>500:\n",
    "    print(' may be i wont be able to buy a jacket')\n",
    "elif price<500:\n",
    "    print('i will be able to buy a jacket')\n",
    "elif price==500:\n",
    "    print('for sure i will buy it')\n",
    "else:\n",
    "    print('go to jungle')"
   ]
  },
  {
   "cell_type": "code",
   "execution_count": 14,
   "id": "477bd40d",
   "metadata": {},
   "outputs": [
    {
     "data": {
      "text/plain": [
       "False"
      ]
     },
     "execution_count": 14,
     "metadata": {},
     "output_type": "execute_result"
    }
   ],
   "source": [
    "price>500"
   ]
  },
  {
   "cell_type": "code",
   "execution_count": 15,
   "id": "d01d94ae",
   "metadata": {},
   "outputs": [
    {
     "data": {
      "text/plain": [
       "False"
      ]
     },
     "execution_count": 15,
     "metadata": {},
     "output_type": "execute_result"
    }
   ],
   "source": [
    "price <500"
   ]
  },
  {
   "cell_type": "code",
   "execution_count": 16,
   "id": "0ac18627",
   "metadata": {},
   "outputs": [
    {
     "data": {
      "text/plain": [
       "True"
      ]
     },
     "execution_count": 16,
     "metadata": {},
     "output_type": "execute_result"
    }
   ],
   "source": [
    "price==500"
   ]
  },
  {
   "cell_type": "code",
   "execution_count": 17,
   "id": "b0b62340",
   "metadata": {},
   "outputs": [
    {
     "data": {
      "text/plain": [
       "True"
      ]
     },
     "execution_count": 17,
     "metadata": {},
     "output_type": "execute_result"
    }
   ],
   "source": [
    "l=[1,2,3,4,5,6]\n",
    "2 in l"
   ]
  },
  {
   "cell_type": "code",
   "execution_count": 19,
   "id": "1e2be0b5",
   "metadata": {},
   "outputs": [
    {
     "name": "stdout",
     "output_type": "stream",
     "text": [
      "dont perform this task\n"
     ]
    }
   ],
   "source": [
    "if 8 in l:\n",
    "    print('try to perform a task')\n",
    "else:\n",
    "    print('dont perform this task')"
   ]
  },
  {
   "cell_type": "code",
   "execution_count": 25,
   "id": "e62b52d8",
   "metadata": {},
   "outputs": [
    {
     "name": "stdout",
     "output_type": "stream",
     "text": [
      "try to do sub\n",
      "this is a new statement\n"
     ]
    }
   ],
   "source": [
    "if 21 in l :\n",
    "    print('try to do a addition')\n",
    "elif 3 in l :\n",
    "    print('try to do sub')\n",
    "elif 4 in l :\n",
    "    print('try to do a null')\n",
    "if 4 in l:\n",
    "    print('this is a new statement')"
   ]
  },
  {
   "cell_type": "code",
   "execution_count": 29,
   "id": "22ba80b0",
   "metadata": {},
   "outputs": [
    {
     "name": "stdout",
     "output_type": "stream",
     "text": [
      "345\n"
     ]
    }
   ],
   "source": [
    "a=400\n",
    "b=int(input())"
   ]
  },
  {
   "cell_type": "code",
   "execution_count": 30,
   "id": "236695fc",
   "metadata": {},
   "outputs": [
    {
     "data": {
      "text/plain": [
       "345"
      ]
     },
     "execution_count": 30,
     "metadata": {},
     "output_type": "execute_result"
    }
   ],
   "source": [
    "b"
   ]
  },
  {
   "cell_type": "code",
   "execution_count": 31,
   "id": "82f60d3e",
   "metadata": {},
   "outputs": [
    {
     "data": {
      "text/plain": [
       "int"
      ]
     },
     "execution_count": 31,
     "metadata": {},
     "output_type": "execute_result"
    }
   ],
   "source": [
    "type(b)\n"
   ]
  },
  {
   "cell_type": "code",
   "execution_count": 40,
   "id": "f1188983",
   "metadata": {},
   "outputs": [
    {
     "name": "stdout",
     "output_type": "stream",
     "text": [
      "700\n",
      "i wont buy anything\n",
      "lets try new\n"
     ]
    }
   ],
   "source": [
    "price=int(input())\n",
    "if price<500:\n",
    "    print('i will be able to buy something')\n",
    "    if price<400:\n",
    "        print('i will be able to buy a jacket')\n",
    "    elif price <300:\n",
    "        print('i will be able to buy a tshirt')\n",
    "    else:\n",
    "        print('i wont be able to buy anything')\n",
    "else:\n",
    "    print('i wont buy anything')\n",
    "    if price >500:\n",
    "        print('lets try new')"
   ]
  },
  {
   "cell_type": "code",
   "execution_count": 42,
   "id": "7983d209",
   "metadata": {},
   "outputs": [
    {
     "name": "stdout",
     "output_type": "stream",
     "text": [
      "780\n",
      "u got gre\n"
     ]
    }
   ],
   "source": [
    "marks=int(input())\n",
    "if marks <600:\n",
    "    print('no gre')\n",
    "    if marks <500:\n",
    "        print('toefl')\n",
    "        if marks<400:\n",
    "            print('try something else')\n",
    "    else:\n",
    "        print('you got toefl')\n",
    "else:\n",
    "    print('u got gre')"
   ]
  },
  {
   "cell_type": "code",
   "execution_count": 46,
   "id": "b7afc26b",
   "metadata": {},
   "outputs": [
    {
     "name": "stdout",
     "output_type": "stream",
     "text": [
      "enter a floating point a number98\n",
      "entered value is positive num\n"
     ]
    }
   ],
   "source": [
    "val = float (input('enter a floating point a number'))\n",
    "if val>=0:\n",
    "    if val==0:\n",
    "        print('entered value is zero')\n",
    "    else:\n",
    "        print('entered value is positive num')\n",
    "else:\n",
    "    print('entered number is neg')"
   ]
  },
  {
   "cell_type": "code",
   "execution_count": 57,
   "id": "b361eb35",
   "metadata": {},
   "outputs": [],
   "source": [
    "a=10\n",
    "if a < 10 and a>10 :\n",
    "    print('try to do something')"
   ]
  },
  {
   "cell_type": "code",
   "execution_count": 58,
   "id": "be24a697",
   "metadata": {},
   "outputs": [
    {
     "name": "stdout",
     "output_type": "stream",
     "text": [
      "this is chinmaya\n"
     ]
    }
   ],
   "source": [
    "a = 'chinmaya'\n",
    "if a == 'chinmaya'or a =='Chinmaya':\n",
    "    print('this is chinmaya')"
   ]
  },
  {
   "cell_type": "code",
   "execution_count": 60,
   "id": "0764dc3d",
   "metadata": {},
   "outputs": [
    {
     "name": "stdout",
     "output_type": "stream",
     "text": [
      "lets do something\n"
     ]
    }
   ],
   "source": [
    "a=10\n",
    "b=11\n",
    "c=12\n",
    "d=13\n",
    "if a==9 or b==11 and c==12 and d==13:\n",
    "    print('lets do something')"
   ]
  },
  {
   "cell_type": "code",
   "execution_count": 61,
   "id": "419e469e",
   "metadata": {},
   "outputs": [],
   "source": [
    "d={'key1':'value','key2':'chinu','key3':'ineuron'}"
   ]
  },
  {
   "cell_type": "code",
   "execution_count": 67,
   "id": "48c90c17",
   "metadata": {},
   "outputs": [
    {
     "name": "stdout",
     "output_type": "stream",
     "text": [
      "all are verified\n",
      "dict_values(['value', 'chinu', 'ineuron'])\n"
     ]
    }
   ],
   "source": [
    "if d ['key1']=='value'or d['key2']=='chinu' and d['key3']=='ineuron':\n",
    "    print('all are verified')\n",
    "    print(d.values())\n",
    "else:\n",
    "    print('all are not verified')"
   ]
  },
  {
   "cell_type": "code",
   "execution_count": 77,
   "id": "ac4d9c8e",
   "metadata": {},
   "outputs": [],
   "source": [
    "l=[1,2,3,4,5,'chin',78.26]"
   ]
  },
  {
   "cell_type": "code",
   "execution_count": 78,
   "id": "84acbeec",
   "metadata": {},
   "outputs": [
    {
     "name": "stdout",
     "output_type": "stream",
     "text": [
      "2\n",
      "3\n",
      "4\n",
      "5\n",
      "6\n",
      "chin1\n",
      "79.26\n"
     ]
    }
   ],
   "source": [
    "for i in l:\n",
    "    if type(i)==int or type (i) == float:\n",
    "        print(i+1)\n",
    "    elif type(i)==str:\n",
    "        print(i+str(1))"
   ]
  },
  {
   "cell_type": "code",
   "execution_count": null,
   "id": "6cba07e7",
   "metadata": {},
   "outputs": [],
   "source": []
  }
 ],
 "metadata": {
  "kernelspec": {
   "display_name": "Python 3 (ipykernel)",
   "language": "python",
   "name": "python3"
  },
  "language_info": {
   "codemirror_mode": {
    "name": "ipython",
    "version": 3
   },
   "file_extension": ".py",
   "mimetype": "text/x-python",
   "name": "python",
   "nbconvert_exporter": "python",
   "pygments_lexer": "ipython3",
   "version": "3.9.12"
  }
 },
 "nbformat": 4,
 "nbformat_minor": 5
}
