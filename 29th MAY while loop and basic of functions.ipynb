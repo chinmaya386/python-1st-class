{
 "cells": [
  {
   "cell_type": "code",
   "execution_count": 3,
   "id": "1818f46c",
   "metadata": {},
   "outputs": [
    {
     "name": "stdout",
     "output_type": "stream",
     "text": [
      "\n",
      "ineuron \n",
      "ineuron ineuron \n",
      "ineuron ineuron ineuron \n",
      "ineuron ineuron ineuron ineuron \n"
     ]
    }
   ],
   "source": [
    "n=4\n",
    "for i in range(n+1):\n",
    "    for j in range(i):\n",
    "        print('ineuron',end=' ')\n",
    "    print()\n",
    "   "
   ]
  },
  {
   "cell_type": "code",
   "execution_count": 4,
   "id": "42e82e50",
   "metadata": {},
   "outputs": [
    {
     "name": "stdout",
     "output_type": "stream",
     "text": [
      "1\n",
      "2\n",
      "3\n",
      "4\n",
      "5\n",
      "6\n",
      "7\n",
      "8\n",
      "9\n",
      "10\n"
     ]
    }
   ],
   "source": [
    "a=1\n",
    "b=10\n",
    "while a<=b:\n",
    "    print(a)\n",
    "    a=a+1"
   ]
  },
  {
   "cell_type": "code",
   "execution_count": 8,
   "id": "efa72d36",
   "metadata": {},
   "outputs": [
    {
     "name": "stdout",
     "output_type": "stream",
     "text": [
      "2\n",
      "3\n",
      "4\n",
      "5\n",
      "6\n",
      "7\n",
      "8\n",
      "9\n",
      "10\n"
     ]
    }
   ],
   "source": [
    "a=1\n",
    "b=10\n",
    "while a<b:\n",
    "    \n",
    "    a=a+1\n",
    "    if a==3:\n",
    "        pass\n",
    "    print(a)    "
   ]
  },
  {
   "cell_type": "code",
   "execution_count": 10,
   "id": "f93abce2",
   "metadata": {},
   "outputs": [
    {
     "name": "stdout",
     "output_type": "stream",
     "text": [
      "1\n",
      "2\n",
      "3\n",
      "4\n",
      "5\n"
     ]
    }
   ],
   "source": [
    "a=1\n",
    "b=10\n",
    "while a<=b:\n",
    "    print(a)\n",
    "    if a==5:\n",
    "        break\n",
    "    a = a+1"
   ]
  },
  {
   "cell_type": "code",
   "execution_count": 11,
   "id": "80eae37f",
   "metadata": {},
   "outputs": [
    {
     "name": "stdout",
     "output_type": "stream",
     "text": [
      "1\n",
      "2\n",
      "3\n",
      "4\n",
      "56\n",
      "65\n"
     ]
    }
   ],
   "source": [
    "l=[1,2,3,4,56,65]\n",
    "for i in l:\n",
    "    print(i)"
   ]
  },
  {
   "cell_type": "code",
   "execution_count": 3,
   "id": "d03904a3",
   "metadata": {},
   "outputs": [
    {
     "name": "stdout",
     "output_type": "stream",
     "text": [
      "1\n",
      "2\n",
      "3\n",
      "4\n",
      "56\n",
      "65\n"
     ]
    }
   ],
   "source": [
    "a=0\n",
    "l=[1,2,3,4,56,65]\n",
    "while a < len(l):\n",
    "    print(l[a])\n",
    "    a=a+1"
   ]
  },
  {
   "cell_type": "code",
   "execution_count": 6,
   "id": "e6909de6",
   "metadata": {},
   "outputs": [
    {
     "name": "stdout",
     "output_type": "stream",
     "text": [
      "                                ineuron \n",
      "                        ineuron ineuron ineuron \n",
      "                ineuron ineuron ineuron ineuron ineuron \n",
      "        ineuron ineuron ineuron ineuron ineuron ineuron ineuron \n",
      "ineuron ineuron ineuron ineuron ineuron ineuron ineuron ineuron ineuron \n"
     ]
    }
   ],
   "source": [
    "n=5\n",
    "for i in range(n):\n",
    "    for j in range(i,n-1):\n",
    "        print(' '*len('ineuron'),end=' ')\n",
    "    for j in range(i+1):\n",
    "        print('ineuron',end=' ')\n",
    "    for j in range(i):\n",
    "        print('ineuron',end=' ')\n",
    "    print()"
   ]
  },
  {
   "cell_type": "code",
   "execution_count": 8,
   "id": "cac638dc",
   "metadata": {},
   "outputs": [],
   "source": [
    "t=(1,2,3,4,6,7,89)"
   ]
  },
  {
   "cell_type": "code",
   "execution_count": 9,
   "id": "d71e7ad7",
   "metadata": {},
   "outputs": [
    {
     "name": "stdout",
     "output_type": "stream",
     "text": [
      "3\n",
      "4\n"
     ]
    }
   ],
   "source": [
    "a=0\n",
    "while a < len(t):\n",
    "    if t[a]==4 or t[a]==6:\n",
    "        print (a)\n",
    "    a=a+1"
   ]
  },
  {
   "cell_type": "code",
   "execution_count": 2,
   "id": "4e282a3c",
   "metadata": {},
   "outputs": [
    {
     "name": "stdout",
     "output_type": "stream",
     "text": [
      "index of  6 -3\n",
      "index of  4 -4\n"
     ]
    }
   ],
   "source": [
    "a=-1\n",
    "t=(1,2,3,4,6,89,7)\n",
    "while a>-len(t):\n",
    "    if t[a]==4 or t[a]==6:\n",
    "        print ('index of ',t[a],a)\n",
    "    a=a-1"
   ]
  },
  {
   "cell_type": "code",
   "execution_count": 2,
   "id": "b73e7f87",
   "metadata": {},
   "outputs": [],
   "source": [
    "d={'k1':'chinu','k2':[2,3,4,5],'k3':(1,2,3,4)}"
   ]
  },
  {
   "cell_type": "code",
   "execution_count": 3,
   "id": "2699d86f",
   "metadata": {},
   "outputs": [
    {
     "data": {
      "text/plain": [
       "dict"
      ]
     },
     "execution_count": 3,
     "metadata": {},
     "output_type": "execute_result"
    }
   ],
   "source": [
    "type(d)"
   ]
  },
  {
   "cell_type": "code",
   "execution_count": 4,
   "id": "16a300ae",
   "metadata": {},
   "outputs": [
    {
     "name": "stdout",
     "output_type": "stream",
     "text": [
      "chinu\n",
      "[2, 3, 4, 5]\n",
      "(1, 2, 3, 4)\n"
     ]
    }
   ],
   "source": [
    "a=0\n",
    "b=list(d.keys())\n",
    "while a < len(d):\n",
    "    print(d[b[a]])\n",
    "    a=a+1"
   ]
  },
  {
   "cell_type": "markdown",
   "id": "ba113738",
   "metadata": {},
   "source": [
    "# Functions\n"
   ]
  },
  {
   "cell_type": "code",
   "execution_count": 8,
   "id": "8e590308",
   "metadata": {},
   "outputs": [],
   "source": [
    "def test():\n",
    "    print('this is my first function')"
   ]
  },
  {
   "cell_type": "code",
   "execution_count": 9,
   "id": "b59abf9c",
   "metadata": {},
   "outputs": [
    {
     "name": "stdout",
     "output_type": "stream",
     "text": [
      "this is my first function\n"
     ]
    },
    {
     "data": {
      "text/plain": [
       "'Nonechinu'"
      ]
     },
     "execution_count": 9,
     "metadata": {},
     "output_type": "execute_result"
    }
   ],
   "source": [
    "str(test())+'chinu'"
   ]
  },
  {
   "cell_type": "code",
   "execution_count": 11,
   "id": "0b46d023",
   "metadata": {},
   "outputs": [
    {
     "name": "stdout",
     "output_type": "stream",
     "text": [
      "this is my first function\n"
     ]
    },
    {
     "data": {
      "text/plain": [
       "NoneType"
      ]
     },
     "execution_count": 11,
     "metadata": {},
     "output_type": "execute_result"
    }
   ],
   "source": [
    "type (test())"
   ]
  },
  {
   "cell_type": "code",
   "execution_count": 12,
   "id": "ddf21289",
   "metadata": {},
   "outputs": [],
   "source": [
    "def test1():\n",
    "    return('this is my first fun')"
   ]
  },
  {
   "cell_type": "code",
   "execution_count": 18,
   "id": "4e4d71f4",
   "metadata": {},
   "outputs": [
    {
     "data": {
      "text/plain": [
       "'this is my first fun chinu '"
      ]
     },
     "execution_count": 18,
     "metadata": {},
     "output_type": "execute_result"
    }
   ],
   "source": [
    "test1() + ' chinu '"
   ]
  },
  {
   "cell_type": "code",
   "execution_count": 19,
   "id": "d7eb3590",
   "metadata": {},
   "outputs": [],
   "source": [
    "def test2():\n",
    "    a=4*9\n",
    "    b=8+9\n",
    "    return a,b"
   ]
  },
  {
   "cell_type": "code",
   "execution_count": 22,
   "id": "5b03404e",
   "metadata": {},
   "outputs": [],
   "source": [
    "g=test2()"
   ]
  },
  {
   "cell_type": "code",
   "execution_count": 23,
   "id": "cbc72567",
   "metadata": {},
   "outputs": [
    {
     "data": {
      "text/plain": [
       "(36, 17)"
      ]
     },
     "execution_count": 23,
     "metadata": {},
     "output_type": "execute_result"
    }
   ],
   "source": [
    "g"
   ]
  },
  {
   "cell_type": "code",
   "execution_count": 24,
   "id": "9653f07e",
   "metadata": {},
   "outputs": [],
   "source": [
    "a,b=test2()"
   ]
  },
  {
   "cell_type": "code",
   "execution_count": 25,
   "id": "9928d973",
   "metadata": {},
   "outputs": [
    {
     "data": {
      "text/plain": [
       "(36, 17)"
      ]
     },
     "execution_count": 25,
     "metadata": {},
     "output_type": "execute_result"
    }
   ],
   "source": [
    "a,b"
   ]
  },
  {
   "cell_type": "code",
   "execution_count": 31,
   "id": "af6238e2",
   "metadata": {},
   "outputs": [],
   "source": [
    "def test3():\n",
    "    a=3\n",
    "    b=9\n",
    "    while a<b:\n",
    "        print(a)\n",
    "        a =a+1\n",
    "    else:\n",
    "        print('thats it')"
   ]
  },
  {
   "cell_type": "code",
   "execution_count": 32,
   "id": "4a2ef683",
   "metadata": {},
   "outputs": [
    {
     "name": "stdout",
     "output_type": "stream",
     "text": [
      "3\n",
      "4\n",
      "5\n",
      "6\n",
      "7\n",
      "8\n",
      "thats it\n"
     ]
    }
   ],
   "source": [
    "test3()"
   ]
  },
  {
   "cell_type": "code",
   "execution_count": 3,
   "id": "fa20b8c6",
   "metadata": {},
   "outputs": [],
   "source": [
    "s='chinmaya'"
   ]
  },
  {
   "cell_type": "code",
   "execution_count": 4,
   "id": "6124a633",
   "metadata": {},
   "outputs": [
    {
     "data": {
      "text/plain": [
       "str"
      ]
     },
     "execution_count": 4,
     "metadata": {},
     "output_type": "execute_result"
    }
   ],
   "source": [
    "type(s)"
   ]
  },
  {
   "cell_type": "code",
   "execution_count": 16,
   "id": "193ddcd6",
   "metadata": {},
   "outputs": [],
   "source": [
    "def test4(a,b):\n",
    "    while a<b:\n",
    "        print(a)\n",
    "        a=a+1\n",
    "    else:\n",
    "        print('close it')\n",
    "        "
   ]
  },
  {
   "cell_type": "code",
   "execution_count": 17,
   "id": "68d62932",
   "metadata": {},
   "outputs": [
    {
     "name": "stdout",
     "output_type": "stream",
     "text": [
      "1\n",
      "2\n",
      "3\n",
      "4\n",
      "5\n",
      "6\n",
      "7\n",
      "8\n",
      "9\n",
      "close it\n"
     ]
    }
   ],
   "source": [
    "test4(1,10)"
   ]
  },
  {
   "cell_type": "code",
   "execution_count": 18,
   "id": "e1c97c09",
   "metadata": {},
   "outputs": [
    {
     "name": "stdout",
     "output_type": "stream",
     "text": [
      "3\n",
      "4\n",
      "5\n",
      "6\n",
      "7\n",
      "8\n",
      "9\n",
      "10\n",
      "11\n",
      "12\n",
      "13\n",
      "14\n",
      "15\n",
      "16\n",
      "17\n",
      "18\n",
      "19\n",
      "close it\n"
     ]
    }
   ],
   "source": [
    "test4(3,20)"
   ]
  },
  {
   "cell_type": "code",
   "execution_count": 19,
   "id": "c20a3d9b",
   "metadata": {},
   "outputs": [
    {
     "name": "stdout",
     "output_type": "stream",
     "text": [
      "close it\n"
     ]
    }
   ],
   "source": [
    "test4(39,2)"
   ]
  },
  {
   "cell_type": "code",
   "execution_count": 20,
   "id": "a086d3a6",
   "metadata": {},
   "outputs": [],
   "source": [
    "def test5(a,b):\n",
    "    l=[]\n",
    "    while a<b:\n",
    "        #print(a)\n",
    "        l.append(a)\n",
    "        a=a+1\n",
    "    else:\n",
    "        print('print this else block')\n",
    "    return l"
   ]
  },
  {
   "cell_type": "code",
   "execution_count": 21,
   "id": "e99e47a5",
   "metadata": {},
   "outputs": [
    {
     "name": "stdout",
     "output_type": "stream",
     "text": [
      "print this else block\n"
     ]
    },
    {
     "data": {
      "text/plain": [
       "[1, 2, 3, 4, 5, 6, 7, 8, 9]"
      ]
     },
     "execution_count": 21,
     "metadata": {},
     "output_type": "execute_result"
    }
   ],
   "source": [
    "test5(1,10)"
   ]
  },
  {
   "cell_type": "code",
   "execution_count": 26,
   "id": "378ded35",
   "metadata": {},
   "outputs": [
    {
     "name": "stdout",
     "output_type": "stream",
     "text": [
      "print this else block\n"
     ]
    },
    {
     "data": {
      "text/plain": [
       "list"
      ]
     },
     "execution_count": 26,
     "metadata": {},
     "output_type": "execute_result"
    }
   ],
   "source": [
    "type(test5(30,2))"
   ]
  },
  {
   "cell_type": "code",
   "execution_count": 27,
   "id": "11c2d243",
   "metadata": {},
   "outputs": [],
   "source": [
    "l=[3,4,5,6,75,7,5,[3,54,46,6,554,65],'chinmaya']"
   ]
  },
  {
   "cell_type": "code",
   "execution_count": 28,
   "id": "c672dafe",
   "metadata": {},
   "outputs": [],
   "source": [
    "l1=[]\n",
    "for i in l:\n",
    "    if type(i)==int:\n",
    "        l1.append(i)"
   ]
  },
  {
   "cell_type": "code",
   "execution_count": 29,
   "id": "e0312a19",
   "metadata": {},
   "outputs": [
    {
     "data": {
      "text/plain": [
       "[3, 4, 5, 6, 75, 7, 5]"
      ]
     },
     "execution_count": 29,
     "metadata": {},
     "output_type": "execute_result"
    }
   ],
   "source": [
    "l1"
   ]
  },
  {
   "cell_type": "code",
   "execution_count": 33,
   "id": "4ee4a9d1",
   "metadata": {},
   "outputs": [],
   "source": [
    "def test6():\n",
    "    l1=[]\n",
    "    for i in l:\n",
    "        if type(i)==int:\n",
    "           l1.append(i)\n",
    "    return l1"
   ]
  },
  {
   "cell_type": "code",
   "execution_count": 34,
   "id": "b3914218",
   "metadata": {},
   "outputs": [
    {
     "data": {
      "text/plain": [
       "[3, 4, 5, 6, 75, 7, 5]"
      ]
     },
     "execution_count": 34,
     "metadata": {},
     "output_type": "execute_result"
    }
   ],
   "source": [
    "test6()"
   ]
  },
  {
   "cell_type": "code",
   "execution_count": 35,
   "id": "475b1ebe",
   "metadata": {},
   "outputs": [],
   "source": [
    "l2=[345,5674,768,4,67,9,(3,4,56,454,3432),'chin']"
   ]
  },
  {
   "cell_type": "code",
   "execution_count": 36,
   "id": "f41a0aa1",
   "metadata": {},
   "outputs": [],
   "source": [
    "def test6(l):\n",
    "    l1=[]\n",
    "    for i in l:\n",
    "        if type(i)==int:\n",
    "           l1.append(i)\n",
    "    return l1"
   ]
  },
  {
   "cell_type": "code",
   "execution_count": 38,
   "id": "6970f17f",
   "metadata": {},
   "outputs": [
    {
     "data": {
      "text/plain": [
       "[345, 5674, 768, 4, 67, 9]"
      ]
     },
     "execution_count": 38,
     "metadata": {},
     "output_type": "execute_result"
    }
   ],
   "source": [
    "test6(l2)"
   ]
  },
  {
   "cell_type": "code",
   "execution_count": 39,
   "id": "5838ddde",
   "metadata": {},
   "outputs": [
    {
     "name": "stdout",
     "output_type": "stream",
     "text": [
      "index of  6 -3\n",
      "index of  4 -4\n"
     ]
    }
   ],
   "source": [
    "a=-1\n",
    "t=(1,2,3,4,6,89,7)\n",
    "while a>-len(t):\n",
    "    if t[a]==4 or t[a]==6:\n",
    "        print ('index of ',t[a],a)\n",
    "    a=a-1"
   ]
  },
  {
   "cell_type": "code",
   "execution_count": null,
   "id": "cd3f86d1",
   "metadata": {},
   "outputs": [],
   "source": [
    "def test7(t):\n",
    "    a=-1\n",
    "    while a>-len(t):\n",
    "        if t[a]==4 or t[a]==6:\n",
    "            print ('index of ',t[a],a)\n",
    "        a=a-1"
   ]
  },
  {
   "cell_type": "code",
   "execution_count": null,
   "id": "17a69716",
   "metadata": {},
   "outputs": [],
   "source": [
    "test7(t)"
   ]
  },
  {
   "cell_type": "code",
   "execution_count": 1,
   "id": "5e98314b",
   "metadata": {},
   "outputs": [
    {
     "name": "stdout",
     "output_type": "stream",
     "text": [
      "index of  6 -3\n",
      "index of  4 -4\n"
     ]
    }
   ],
   "source": [
    "a=-1\n",
    "t=(1,2,3,4,6,89,7)\n",
    "while a>-len(t):\n",
    "    if t[a]==4 or t[a]==6:\n",
    "        print ('index of ',t[a],a)\n",
    "    a=a-1"
   ]
  },
  {
   "cell_type": "code",
   "execution_count": 2,
   "id": "4525bc9b",
   "metadata": {},
   "outputs": [],
   "source": [
    "def test7(t):\n",
    "    a=-1\n",
    "    while a>-len(t):\n",
    "        if t[a]==4 or t[a]==6:\n",
    "            print ('index of ',t[a],a)\n",
    "        a=a-1"
   ]
  },
  {
   "cell_type": "code",
   "execution_count": 3,
   "id": "34ce2576",
   "metadata": {},
   "outputs": [
    {
     "name": "stdout",
     "output_type": "stream",
     "text": [
      "index of  6 -3\n",
      "index of  4 -4\n"
     ]
    }
   ],
   "source": [
    "test7(t)"
   ]
  },
  {
   "cell_type": "code",
   "execution_count": 5,
   "id": "6f6bf798",
   "metadata": {},
   "outputs": [
    {
     "name": "stdout",
     "output_type": "stream",
     "text": [
      "index of  6 -2\n",
      "index of  6 -3\n",
      "index of  6 -5\n",
      "index of  6 -6\n",
      "index of  4 -8\n",
      "index of  4 -9\n"
     ]
    }
   ],
   "source": [
    "test7((3,3,5,5,44,4,4,77,6,6,88,6,6,90))"
   ]
  },
  {
   "cell_type": "code",
   "execution_count": null,
   "id": "41297157",
   "metadata": {},
   "outputs": [],
   "source": []
  }
 ],
 "metadata": {
  "kernelspec": {
   "display_name": "Python 3 (ipykernel)",
   "language": "python",
   "name": "python3"
  },
  "language_info": {
   "codemirror_mode": {
    "name": "ipython",
    "version": 3
   },
   "file_extension": ".py",
   "mimetype": "text/x-python",
   "name": "python",
   "nbconvert_exporter": "python",
   "pygments_lexer": "ipython3",
   "version": "3.9.12"
  }
 },
 "nbformat": 4,
 "nbformat_minor": 5
}
